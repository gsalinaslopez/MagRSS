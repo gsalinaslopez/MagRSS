{
 "cells": [
  {
   "cell_type": "code",
   "execution_count": 1,
   "metadata": {},
   "outputs": [],
   "source": [
    "import csv"
   ]
  },
  {
   "cell_type": "code",
   "execution_count": 2,
   "metadata": {},
   "outputs": [
    {
     "data": {
      "text/plain": [
       "['lat',\n",
       " ' lon',\n",
       " ' acc',\n",
       " ' bear',\n",
       " ' bearAcc',\n",
       " ' magnetometer_x',\n",
       " ' magnetometer_y',\n",
       " ' magnetometer_z',\n",
       " ' heading',\n",
       " ' 189_asuLevel',\n",
       " ' 189_cqi',\n",
       " ' 189_dbm',\n",
       " ' 189_level',\n",
       " ' 189_rsrp',\n",
       " ' 189_rsrq',\n",
       " ' 189_rssnr',\n",
       " ' 2147483647_asuLevel',\n",
       " ' 2147483647_cqi',\n",
       " ' 2147483647_dbm',\n",
       " ' 2147483647_level',\n",
       " ' 2147483647_rsrp',\n",
       " ' 2147483647_rsrq',\n",
       " ' 2147483647_rssnr',\n",
       " ' timestamp',\n",
       " ' label']"
      ]
     },
     "execution_count": 2,
     "metadata": {},
     "output_type": "execute_result"
    }
   ],
   "source": [
    "csvfile = open('./train/16/2019_10_03_16_35_50_train.csv')\n",
    "reader = csv.reader(csvfile)\n",
    "\n",
    "# remove the columns name, we are going to clean the csv file anyways\n",
    "next(reader)"
   ]
  },
  {
   "cell_type": "code",
   "execution_count": 5,
   "metadata": {},
   "outputs": [],
   "source": [
    "# build all the keys\n",
    "key_list = ['lat', 'lon', 'acc', 'bear', 'bearAcc', 'magnetometer_x', 'magnetometer_y', 'magnetometer_z', 'heading']\n",
    "cid_keys_suffix = ['asuLevel', 'cqi', 'dbm', 'level', 'rsrp', 'rsrq', 'rssnr']\n",
    "\n",
    "for row in reader:\n",
    "    for field in row:\n",
    "        # retrieve all values that are related to cellID and build a key\n",
    "        if '_' in field:\n",
    "            # generate keys with the preffix 'cid_'\n",
    "            cid = field[:field.find('_')]\n",
    "            \n",
    "            for suffix in cid_keys_suffix:\n",
    "                cid_key = cid + '_' + suffix\n",
    "                # append it into the key list, if not there yet\n",
    "                if cid_key not in key_list:\n",
    "                    key_list.append(cid_key)\n",
    "key_list.append('timestamp')\n",
    "key_list.append('label')"
   ]
  },
  {
   "cell_type": "code",
   "execution_count": 6,
   "metadata": {},
   "outputs": [],
   "source": [
    "csvfile.seek(0)\n",
    "reader = csv.reader(csvfile)\n",
    "next(reader)\n",
    "\n",
    "csv_rows = []\n",
    "for row in reader:\n",
    "    # create dictionary keys, all 'empty' because each entry won't necessary have \n",
    "    # a value for all keys\n",
    "    field_it = 0\n",
    "    cid_key_it = 0\n",
    "    csv_row_entry = {k: None for k in key_list}\n",
    "    \n",
    "    ue_acc = 0\n",
    "    ue_lat = 0\n",
    "    ue_lon = 0\n",
    "    # iterate through every field and filling up the csv row dict\n",
    "    for field in row:\n",
    "        if '_' in field:\n",
    "            # cid related  fields\n",
    "            cid = field[:field.find('_')]\n",
    "            cid_key = cid + '_' + cid_keys_suffix[cid_key_it % 7]\n",
    "            csv_row_entry[cid_key] = field[field.find('_') + 1:]\n",
    "            \n",
    "            cid_key_it = cid_key_it + 1\n",
    "        elif field_it == len(row) - 2:\n",
    "            # timestamp field\n",
    "            csv_row_entry['timestamp'] = field\n",
    "        elif field_it == len(row) - 1:\n",
    "            # label field\n",
    "            csv_row_entry['label'] = field\n",
    "        else:\n",
    "            # remaining fields\n",
    "            csv_row_entry[key_list[field_it]] = field\n",
    "            if key_list[field_it] == 'lat':\n",
    "                ue_lat = field\n",
    "            if key_list[field_it] == 'lon':\n",
    "                ue_lon = field\n",
    "            if key_list[field_it] == 'acc':\n",
    "                ue_acc = field\n",
    "        \n",
    "        field_it = field_it + 1\n",
    "    csv_rows.append(csv_row_entry)"
   ]
  },
  {
   "cell_type": "code",
   "execution_count": 81,
   "metadata": {},
   "outputs": [],
   "source": [
    "with open('cleaned10.csv', 'w', newline='') as csv_outfile:\n",
    "    dict_writer = csv.DictWriter(csv_outfile, fieldnames=key_list)\n",
    "    dict_writer.writeheader()\n",
    "    \n",
    "    for csv_row in csv_rows:\n",
    "        dict_writer.writerow(csv_row)\n",
    "    csv_outfile.close()"
   ]
  },
  {
   "cell_type": "code",
   "execution_count": null,
   "metadata": {},
   "outputs": [],
   "source": []
  }
 ],
 "metadata": {
  "kernelspec": {
   "display_name": "Python 3",
   "language": "python",
   "name": "python3"
  },
  "language_info": {
   "codemirror_mode": {
    "name": "ipython",
    "version": 3
   },
   "file_extension": ".py",
   "mimetype": "text/x-python",
   "name": "python",
   "nbconvert_exporter": "python",
   "pygments_lexer": "ipython3",
   "version": "3.7.4"
  }
 },
 "nbformat": 4,
 "nbformat_minor": 4
}
