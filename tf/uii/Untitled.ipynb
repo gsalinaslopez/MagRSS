{
 "cells": [
  {
   "cell_type": "code",
   "execution_count": 1,
   "metadata": {},
   "outputs": [],
   "source": [
    "import json\n",
    "import math\n",
    "import pathlib\n",
    "import webbrowser\n",
    "\n",
    "import osmutils\n",
    "import uii\n",
    "\n",
    "import responses\n",
    "import pandas as pd\n",
    "import geopandas\n",
    "import googlemaps\n",
    "\n",
    "from googlemaps.maps import StaticMapMarker\n",
    "from googlemaps.maps import StaticMapPath\n",
    "\n",
    "import matplotlib.pyplot as plt\n",
    "import matplotlib.image as mpimg\n",
    "\n",
    "import warnings; warnings.filterwarnings('ignore', 'GeoSeries.notna', UserWarning)"
   ]
  },
  {
   "cell_type": "code",
   "execution_count": 2,
   "metadata": {},
   "outputs": [],
   "source": [
    "def _get_clean_train_filepaths(train_data_dir):\n",
    "    clean_train_files = []\n",
    "    main_train_dir_path = pathlib.Path(\n",
    "        pathlib.PurePath(pathlib.Path.cwd()).parent, pathlib.Path('train'))\n",
    "    \n",
    "    for train_dir in [x for x in main_train_dir_path.iterdir()\n",
    "                      if x.is_dir() and '.' not in x.name]:\n",
    "        clean_dir = train_dir / str(train_data_dir)\n",
    "        for clean_train_file in [x for x in clean_dir.iterdir() \n",
    "                                 if not x.is_dir()]:\n",
    "            clean_train_files.append(str(clean_train_file))\n",
    "    \n",
    "    return clean_train_files\n",
    "\n",
    "\n",
    "def get_pd_dataframe_from_dir(train_data_dir):\n",
    "    clean_train_files = _get_clean_train_filepaths(train_data_dir)\n",
    "\n",
    "    # setup pandas dataframe\n",
    "    df = pd.concat([pd.read_csv(x) for x in clean_train_files], sort=False)\n",
    "\n",
    "    return df"
   ]
  },
  {
   "cell_type": "code",
   "execution_count": 3,
   "metadata": {},
   "outputs": [],
   "source": [
    "ue_logs = []\n",
    "with open('routes/E_J/E_J_sidewalk_towards_server.txt.bak2') as f:\n",
    "    for line in f:\n",
    "        if line[0] == 'b' and line[1] == '\\'':\n",
    "            ue_log = json.loads(line[2:-4])\n",
    "            ue_logs.append(ue_log)"
   ]
  },
  {
   "cell_type": "code",
   "execution_count": 4,
   "metadata": {},
   "outputs": [],
   "source": [
    "#geopandas.options.display_precision = 16\n",
    "#j, k = osmutils.processUELocation(ue_logs[1]['gps']['lat'], ue_logs[1]['gps']['lon'], ue_logs[1]['gps']['acc'])\n",
    "#\n",
    "#gdf = osmutils.get_road_segment_gdf(j)\n",
    "#print(gdf)\n",
    "#for i in gdf['geometry']:\n",
    "#    print(type(i))\n",
    "#    print(i)\n",
    "#    print(str(list(i.exterior.coords)))\n",
    "#    print(str(list(i.exterior.coords)).replace('(', '{lat: ').replace(')', '}').replace('}, {', 'x').replace(', ', ', lng: ').replace('x', '}, {'))\n",
    "#    \n",
    "#gdf.plot()"
   ]
  },
  {
   "cell_type": "code",
   "execution_count": null,
   "metadata": {},
   "outputs": [],
   "source": [
    "paa_results = [{'computed_area_tan': (0, 0), 'arc': 0}, {'computed_area_tan': (0, 0), 'arc': 0}]\n",
    "\n",
    "x = 0\n",
    "for i in range(1, len(ue_logs)):\n",
    "    if i % 12 == 0:\n",
    "        x = i\n",
    "    uii.process_ue_location(i, ue_logs[x], ue_logs[i], paa_results)\n",
    "    plt.show()\n",
    "    input('suave')"
   ]
  },
  {
   "cell_type": "code",
   "execution_count": null,
   "metadata": {},
   "outputs": [],
   "source": [
    "paa_results = [{'computed_area_tan': (0, 0), 'arc': 0, 'paa_gdf': geopandas.GeoDataFrame()}, {'computed_area_tan': (0, 0), 'arc': 0, 'paa_gdf': geopandas.GeoDataFrame()}]\n",
    "x = 0\n",
    "for i in range(1, len(ue_logs)):\n",
    "    if i % 12 == 0:\n",
    "        x = i\n",
    "    aa, b, c = uii.process_ue_location(i, ue_logs[x], ue_logs[i], paa_results)\n",
    "    \n",
    "    plt.show()\n",
    "    input('suave')\n",
    "    continue\n",
    "    \n",
    "    \n",
    "    for a in aa:\n",
    "        clipped = geopandas.clip(b, a)\n",
    "        fig, ax = plt.subplots(figsize=(12, 8))\n",
    "        a.boundary.plot(ax=ax)\n",
    "        b.boundary.plot(ax=ax, color='green')\n",
    "        clipped.plot(ax=ax, color='purple')\n",
    "        print(clipped)\n",
    "        if clipped.area.size > 0:\n",
    "            print(clipped.area.iloc[0], c)\n",
    "        print('******************************************************')\n",
    "        plt.show()\n",
    "        input('next')\n",
    "    print('END OF DOUBLE A')"
   ]
  }
 ],
 "metadata": {
  "kernelspec": {
   "display_name": "Python 3",
   "language": "python",
   "name": "python3"
  },
  "language_info": {
   "codemirror_mode": {
    "name": "ipython",
    "version": 3
   },
   "file_extension": ".py",
   "mimetype": "text/x-python",
   "name": "python",
   "nbconvert_exporter": "python",
   "pygments_lexer": "ipython3",
   "version": "3.5.3"
  }
 },
 "nbformat": 4,
 "nbformat_minor": 4
}
